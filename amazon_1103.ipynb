{
 "cells": [
  {
   "cell_type": "code",
   "execution_count": 2,
   "metadata": {},
   "outputs": [],
   "source": [
    "from selenium.webdriver.support.ui import WebDriverWait\n",
    "from selenium.webdriver.support import expected_conditions as EC\n",
    "from selenium.webdriver.common.by import By\n",
    "from selenium.webdriver.common.keys import Keys\n",
    "from selenium.webdriver.chrome.options import Options\n",
    "import requests\n",
    "from bs4 import BeautifulSoup\n",
    "import pandas as pd\n",
    "import os\n",
    "import requests\n",
    "import re\n",
    "import time\n",
    "from datetime import datetime\n",
    "from selenium.webdriver.common.action_chains import ActionChains\n",
    "import json\n",
    "from selenium.webdriver.chrome.service import Service\n",
    "from selenium import webdriver\n",
    "from tqdm import tqdm"
   ]
  },
  {
   "cell_type": "code",
   "execution_count": 4,
   "metadata": {},
   "outputs": [],
   "source": [
    "driver_path= \"C:/Users/NTX550/Desktop/python/chromedriver.exe\"\n",
    "s = Service(driver_path)\n",
    "driver = webdriver.Chrome(service = s)\n",
    "driver.implicitly_wait(2)\n",
    "driver.set_window_size(600, 800)\n",
    "url = 'https://www.amazon.com/Estee-Lauder-Double-Place-Makeup/dp/B00A6G8YEM/ref=sr_1_3?crid=2JLIA8E1G089H&keywords=estee%2Blauder&qid=1667475873&qu=eyJxc2MiOiI3LjEzIiwicXNhIjoiNy4zNCIsInFzcCI6IjcuMDMifQ%3D%3D&sprefix=estee%2Blauder%2Caps%2C288&sr=8-3&th=1'\n",
    "driver.get(url)\n",
    "\n",
    "driver.find_element(By.XPATH, '/html/body/div[1]/div[2]/div[9]/div[42]/div/div/div[2]/div/div[2]/span[2]/div/div/div[4]/div[2]/a').click()\n",
    "#driver.find_element(By.XPATH, '/html/body/div[1]/div[3]/div/div[1]/div/div[1]/div[5]/div[3]/div/div[11]/span/div/ul/li[2]').click()\n",
    "driver.find_element(By.XPATH, '/html/body/div[1]/div[3]/div/div[1]/div/div[1]/div[5]/div[3]/div/div[11]/span/div/ul/li[2]/a').click()\n",
    "# 사진 클릭 후 내용 들어가기\n",
    "#driver.find_element(By.CSS_SELECTOR, '#search > div.s-desktop-width-max.s-desktop-content.s-opposite-dir.sg-row > div.s-matching-dir.sg-col-16-of-20.sg-col.sg-col-8-of-12.sg-col-12-of-16 > div > span.rush-component.s-latency-cf-section > div.s-main-slot.s-result-list.s-search-results.sg-row > div:nth-child(6) > div > div > div > div > div.s-product-image-container.aok-relative.s-image-overlay-grey.s-text-center.s-padding-left-small.s-padding-right-small.puis-spacing-micro.s-height-equalized > span > a > div').click()\n",
    "#driver.implicitly_wait(10)\n",
    "\n",
    "# 리뷰 클릭\n",
    "#driver.find_element(By.CSS_SELECTOR, '#acrCustomerReviewText').click()\n",
    "\n",
    "#모든 리뷰 보기\n",
    "#driver.find_element(By.CSS_SELECTOR, '#reviews-medley-footer > div.a-row.a-spacing-medium > a').click()"
   ]
  },
  {
   "cell_type": "code",
   "execution_count": 9,
   "metadata": {},
   "outputs": [
    {
     "data": {
      "text/plain": [
       "15"
      ]
     },
     "execution_count": 9,
     "metadata": {},
     "output_type": "execute_result"
    }
   ],
   "source": [
    "len(driver.find_elements(By.CLASS_NAME, 'a-section.celwidget'))"
   ]
  },
  {
   "cell_type": "code",
   "execution_count": null,
   "metadata": {},
   "outputs": [],
   "source": [
    "#다음 페이지\n",
    "#next_page ='//*[@id=\"cm_cr-pagination_bar\"]/ul/li[2]/a'\n",
    "#driver.find_element(By.XPATH, next_page).click()\n",
    "#time.sleep(2)"
   ]
  },
  {
   "cell_type": "code",
   "execution_count": null,
   "metadata": {},
   "outputs": [],
   "source": [
    "from selenium.webdriver.support.ui import WebDriverWait\n",
    "from selenium.webdriver.support import expected_conditions as EC\n",
    "from selenium.webdriver.common.by import By\n",
    "from selenium.webdriver.common.keys import Keys\n",
    "from selenium.webdriver.chrome.options import Options\n",
    "import requests\n",
    "from bs4 import BeautifulSoup\n",
    "import pandas as pd\n",
    "import os\n",
    "import requests\n",
    "import re\n",
    "import time\n",
    "from datetime import datetime\n",
    "from selenium.webdriver.common.action_chains import ActionChains\n",
    "import json\n",
    "from selenium.webdriver.chrome.service import Service\n",
    "from selenium import webdriver\n",
    "from tqdm import tqdm"
   ]
  },
  {
   "cell_type": "code",
   "execution_count": null,
   "metadata": {},
   "outputs": [],
   "source": [
    "driver_path= \"C:/Users/NTX550/Desktop/python/chromedriver.exe\"\n",
    "s = Service(driver_path)\n",
    "driver = webdriver.Chrome(service = s)\n",
    "driver.implicitly_wait(2)\n",
    "driver.set_window_size(600, 800)\n",
    "url = 'https://www.amazon.com/s?k=foundation&sprefix=foundation%2Caps%2C320&ref=nb_sb_ss_pltr-ranker-opsacceptance_1_10'\n",
    "driver.get(url)\n",
    "\n",
    "# 사진 클릭 후 내용 들어가기\n",
    "driver.find_element(By.CSS_SELECTOR, '#search > div.s-desktop-width-max.s-desktop-content.s-opposite-dir.sg-row > div.s-matching-dir.sg-col-16-of-20.sg-col.sg-col-8-of-12.sg-col-12-of-16 > div > span.rush-component.s-latency-cf-section > div.s-main-slot.s-result-list.s-search-results.sg-row > div:nth-child(6) > div > div > div > div > div.s-product-image-container.aok-relative.s-image-overlay-grey.s-text-center.s-padding-left-small.s-padding-right-small.puis-spacing-micro.s-height-equalized > span > a > div').click()\n",
    "driver.implicitly_wait(10)\n",
    "\n",
    "# 리뷰 클릭\n",
    "driver.find_element(By.CSS_SELECTOR, '#acrCustomerReviewText').click()\n",
    "\n",
    "#모든 리뷰 보기\n",
    "driver.find_element(By.CSS_SELECTOR, '#reviews-medley-footer > div.a-row.a-spacing-medium > a').click()"
   ]
  },
  {
   "cell_type": "code",
   "execution_count": null,
   "metadata": {},
   "outputs": [],
   "source": [
    "#다음 페이지\n",
    "next_page ='//*[@id=\"cm_cr-pagination_bar\"]/ul/li[2]/a'\n",
    "driver.find_element(By.XPATH, next_page).click()\n",
    "time.sleep(2)"
   ]
  },
  {
   "cell_type": "code",
   "execution_count": null,
   "metadata": {},
   "outputs": [
    {
     "data": {
      "text/plain": [
       "'Color: Pearl'"
      ]
     },
     "metadata": {},
     "output_type": "display_data"
    }
   ],
   "source": [
    "#색상 path\n",
    "driver.find_element(By.XPATH, '/html/body/div[1]/div[3]/div/div[1]/div/div[1]/div[5]/div[3]/div/div[2]/div/div/div[3]/a[1]').text"
   ]
  },
  {
   "cell_type": "code",
   "execution_count": null,
   "metadata": {},
   "outputs": [
    {
     "data": {
      "text/plain": [
       "'The foundation was exactly my color, it did smear off when accidently touching face. It does oil up. And there was no coverage, acts like a moisturizer than a foundation. I used my old foundation and looked pretty with it mixed. But overall would not recommend for a full coverage foundation.'"
      ]
     },
     "metadata": {},
     "output_type": "display_data"
    }
   ],
   "source": [
    "#리뷰 path\n",
    "re_path = '/html/body/div[1]/div[3]/div/div[1]/div/div[1]/div[5]/div[3]/div/div[3]/div/div/div[4]/span'\n",
    "driver.find_element(By.XPATH, re_path).text"
   ]
  },
  {
   "cell_type": "code",
   "execution_count": null,
   "metadata": {},
   "outputs": [
    {
     "data": {
      "text/plain": [
       "44"
      ]
     },
     "metadata": {},
     "output_type": "display_data"
    }
   ],
   "source": [
    "#전체 페이지 개수\n",
    "len(driver.find_elements(By.TAG_NAME, 'li'))"
   ]
  },
  {
   "cell_type": "code",
   "execution_count": null,
   "metadata": {},
   "outputs": [
    {
     "data": {
      "text/plain": [
       "'Reviewed in the United States 🇺🇸 on October 27, 2022'"
      ]
     },
     "metadata": {},
     "output_type": "display_data"
    }
   ],
   "source": [
    "#나라 & 날짜\n",
    "driver.find_element(By.XPATH, '//*[@id=\"customer_review-R1NF9IG9CZMYXE\"]/span').text"
   ]
  },
  {
   "cell_type": "code",
   "execution_count": null,
   "metadata": {},
   "outputs": [
    {
     "data": {
      "text/plain": [
       "'21,024 total ratings, 2,058 with reviews'"
      ]
     },
     "metadata": {},
     "output_type": "display_data"
    }
   ],
   "source": [
    "# 리뷰 갯수\n",
    "driver.find_element(By.XPATH, '//*[@id=\"filter-info-section\"]/div').text"
   ]
  },
  {
   "cell_type": "code",
   "execution_count": null,
   "metadata": {},
   "outputs": [
    {
     "data": {
      "text/plain": [
       "'I like the color Pearl. I’m a pretty fair completed redhead, even in the summer. I usually never have to change shades. I like the texture and color of his foundation. I don’t feel like it minimizes pores or makes the texture of my skin look better, like other otc foundations I’ve bought. I have sensitive skin, and I feel like it tingles, maybe burns a little bit on my thinner skin areas. As far as all day wear- it only looks good and fresh for a few hours. Even with a good setting powder, I find myself blotting away product and having uneven texture. I will continue to wear this on and off, because it feel like it will be a good cold weather foundation. It does seem to moisturize a little more than my other otc products. Hope this review helps .'"
      ]
     },
     "metadata": {},
     "output_type": "display_data"
    }
   ],
   "source": [
    "driver.find_element(By.XPATH, '/html/body/div[1]/div[3]/div/div[1]/div/div[1]/div[5]/div[3]/div/div[2]/div/div/div[4]/span').text"
   ]
  },
  {
   "cell_type": "code",
   "execution_count": null,
   "metadata": {},
   "outputs": [],
   "source": [
    "time.sleep(3)\n",
    "source = driver.page_source\n",
    "soup = BeautifulSoup(source, 'html.parser')"
   ]
  },
  {
   "cell_type": "code",
   "execution_count": null,
   "metadata": {},
   "outputs": [],
   "source": [
    "url = []\n",
    "tot_page = len(driver.find_elements(By.TAG_NAME, 'li'))\n",
    "for i in range(2, 20):\n",
    "    page = i \n",
    "    \n",
    "    url.append(f'amazon.com/l-f-Cosmetics-flawless-foundation-lightweight/product-reviews/B07MWMY1HS/ref=cm_cr_getr_d_paging_btm_next_{str(page)}?ie=UTF8&reviewerType=all_reviews&pageNumber={str(page)}')"
   ]
  },
  {
   "cell_type": "code",
   "execution_count": null,
   "metadata": {},
   "outputs": [
    {
     "data": {
      "text/plain": [
       "'amazon.com/l-f-Cosmetics-flawless-foundation-lightweight/product-reviews/B07MWMY1HS/ref=cm_cr_getr_d_paging_btm_next_3?ie=UTF8&reviewerType=all_reviews&pageNumber=3'"
      ]
     },
     "metadata": {},
     "output_type": "display_data"
    }
   ],
   "source": [
    "url[1]"
   ]
  },
  {
   "cell_type": "code",
   "execution_count": null,
   "metadata": {},
   "outputs": [],
   "source": [
    "def amazon_reviews():\n",
    "    options = Options()\n",
    "    options.add_argument(\"--headless\")\n",
    "    options.add_argument(\"--window-soze = 1920x1080\")\n",
    "    options.add_argument(\"disable-gpu\")\n",
    "    driver_path= \"C:/Users/NTX550/Desktop/python/chromedriver.exe\"\n",
    "    s = Service(driver_path)\n",
    "\n",
    "    driver = webdriver.Chrome(service = s)\n",
    "    driver.implicitly_wait(2)\n",
    "    driver.set_window_size(600, 800)\n",
    "    url = 'https://www.amazon.com/l-f-Cosmetics-flawless-foundation-lightweight/product-reviews/B07MWMY1HS/ref=cm_cr_dp_d_show_all_btm?ie=UTF8&reviewerType=all_reviews'\n",
    "    driver.get(url)\n",
    "\n",
    "    # 사진 클릭 후 내용 들어가기\n",
    "    #driver.find_element(By.CSS_SELECTOR, '#search > div.s-desktop-width-max.s-desktop-content.s-opposite-dir.sg-row > div.s-matching-dir.sg-col-16-of-20.sg-col.sg-col-8-of-12.sg-col-12-of-16 > div > span.rush-component.s-latency-cf-section > div.s-main-slot.s-result-list.s-search-results.sg-row > div:nth-child(6) > div > div > div > div > div.s-product-image-container.aok-relative.s-image-overlay-grey.s-text-center.s-padding-left-small.s-padding-right-small.puis-spacing-small.s-height-equalized > span > a > div').click()\n",
    "    #driver.implicitly_wait(10)\n",
    "\n",
    "    # 리뷰 클릭\n",
    "    #driver.find_element(By.CSS_SELECTOR, '#acrCustomerReviewText').click()\n",
    "\n",
    "    #모든 리뷰 보기\n",
    "    #driver.find_element(By.CSS_SELECTOR, '#reviews-medley-footer > div.a-row.a-spacing-medium > a').click()\n",
    "    \n",
    "    #리뷰 수\n",
    "    rev = len(driver.find_elements(By.TAG_NAME, 'li'))\n",
    "    \n",
    "    reviews = []\n",
    "    colors = []\n",
    "    countries = []\n",
    "    \n",
    "    while True:\n",
    "        tot_page = len(driver.find_elements(By.TAG_NAME, 'li'))\n",
    "        time.sleep(3)\n",
    "        source = driver.page_source\n",
    "        bs_obj = BeautifulSoup(source, 'html.parser')\n",
    "        \n",
    "        # 리뷰 \n",
    "        for a in range(2, 6):\n",
    "            review_path = '/html/body/div[1]/div[3]/div/div[1]/div/div[1]/div[5]/div[3]/div/div['+str(a)+']/div/div/div[4]/span'\n",
    "            review = driver.find_element(By.XPATH, review_path).text\n",
    "            reviews.append(review)\n",
    "            #/html/body/div[1]/div[3]/div/div[1]/div/div[1]/div[5]/div[3]/div/div[1]/div/div/div[4]/span\n",
    "        # 색상\n",
    "        for b in range(2, 6):\n",
    "            color_path = '/html/body/div[1]/div[3]/div/div[1]/div/div[1]/div[5]/div[3]/div/div['+str(b)+']/div/div/div[3]/a[1]'\n",
    "            color = driver.find_element(By.XPATH, color_path).text\n",
    "            colors.append(color)\n",
    "        \n",
    "        # 나라\n",
    "        for c in range(2, 6):\n",
    "            country_path = '/html/body/div[1]/div[3]/div/div[1]/div/div[1]/div[5]/div[3]/div/div['+str(c)+']/div/div/span'\n",
    "            country = driver.find_element(By.XPATH, country_path).text\n",
    "            countries.append(country)\n",
    "        \n",
    "        if len(reviews) == 3:\n",
    "            break\n",
    "\n",
    "        \n",
    "\n",
    "        driver.find_element(By.XPATH, '//*[@id=\"cm_cr-pagination_bar\"]/ul/li[2]/a').click()\n",
    "    df = pd.DataFrame({'review': reviews, 'color':colors, 'country' : countries})\n",
    "        \n",
    "    driver.close()\n",
    "    driver.quit()\n",
    "    \n",
    "    \n",
    "    return df"
   ]
  },
  {
   "cell_type": "code",
   "execution_count": 27,
   "metadata": {},
   "outputs": [],
   "source": [
    "driver.find_element(By.XPATH, '/html/body/div[1]/div[2]/div[9]/div[41]/div/div/div[2]/div/div[2]/span[3]/span/div[2]/div/div/div[2]/a').click()"
   ]
  },
  {
   "cell_type": "code",
   "execution_count": 29,
   "metadata": {},
   "outputs": [],
   "source": [
    "driver.find_element(By.XPATH, '/html/body/div[1]/div[3]/div/div[1]/div/div[1]/div[5]/div[3]/div/div[11]/span/div/ul/li[2]').click()"
   ]
  },
  {
   "cell_type": "code",
   "execution_count": 8,
   "metadata": {},
   "outputs": [],
   "source": [
    "#색상 path\n",
    "#driver.find_element(By.XPATH, '/html/body/div[1]/div[3]/div/div[1]/div/div[1]/div[5]/div[3]/div/div[2]/div/div/div[3]/a[1]').text"
   ]
  },
  {
   "cell_type": "code",
   "execution_count": null,
   "metadata": {},
   "outputs": [
    {
     "data": {
      "text/plain": [
       "'The foundation was exactly my color, it did smear off when accidently touching face. It does oil up. And there was no coverage, acts like a moisturizer than a foundation. I used my old foundation and looked pretty with it mixed. But overall would not recommend for a full coverage foundation.'"
      ]
     },
     "metadata": {},
     "output_type": "display_data"
    }
   ],
   "source": [
    "#리뷰 path\n",
    "re_path = '/html/body/div[1]/div[3]/div/div[1]/div/div[1]/div[5]/div[3]/div/div[3]/div/div/div[4]/span'\n",
    "driver.find_element(By.XPATH, re_path).text"
   ]
  },
  {
   "cell_type": "code",
   "execution_count": null,
   "metadata": {},
   "outputs": [
    {
     "data": {
      "text/plain": [
       "44"
      ]
     },
     "metadata": {},
     "output_type": "display_data"
    }
   ],
   "source": [
    "#전체 페이지 개수\n",
    "len(driver.find_elements(By.TAG_NAME, 'li'))"
   ]
  },
  {
   "cell_type": "code",
   "execution_count": null,
   "metadata": {},
   "outputs": [
    {
     "data": {
      "text/plain": [
       "'Reviewed in the United States 🇺🇸 on October 27, 2022'"
      ]
     },
     "metadata": {},
     "output_type": "display_data"
    }
   ],
   "source": [
    "#나라 & 날짜\n",
    "driver.find_element(By.XPATH, '//*[@id=\"customer_review-R1NF9IG9CZMYXE\"]/span').text"
   ]
  },
  {
   "cell_type": "code",
   "execution_count": null,
   "metadata": {},
   "outputs": [
    {
     "data": {
      "text/plain": [
       "'21,024 total ratings, 2,058 with reviews'"
      ]
     },
     "metadata": {},
     "output_type": "display_data"
    }
   ],
   "source": [
    "# 리뷰 갯수\n",
    "driver.find_element(By.XPATH, '//*[@id=\"filter-info-section\"]/div').text"
   ]
  },
  {
   "cell_type": "code",
   "execution_count": null,
   "metadata": {},
   "outputs": [
    {
     "data": {
      "text/plain": [
       "'I like the color Pearl. I’m a pretty fair completed redhead, even in the summer. I usually never have to change shades. I like the texture and color of his foundation. I don’t feel like it minimizes pores or makes the texture of my skin look better, like other otc foundations I’ve bought. I have sensitive skin, and I feel like it tingles, maybe burns a little bit on my thinner skin areas. As far as all day wear- it only looks good and fresh for a few hours. Even with a good setting powder, I find myself blotting away product and having uneven texture. I will continue to wear this on and off, because it feel like it will be a good cold weather foundation. It does seem to moisturize a little more than my other otc products. Hope this review helps .'"
      ]
     },
     "metadata": {},
     "output_type": "display_data"
    }
   ],
   "source": [
    "driver.find_element(By.XPATH, '/html/body/div[1]/div[3]/div/div[1]/div/div[1]/div[5]/div[3]/div/div[2]/div/div/div[4]/span').text"
   ]
  },
  {
   "cell_type": "code",
   "execution_count": null,
   "metadata": {},
   "outputs": [],
   "source": [
    "time.sleep(3)\n",
    "source = driver.page_source\n",
    "soup = BeautifulSoup(source, 'html.parser')"
   ]
  },
  {
   "cell_type": "code",
   "execution_count": null,
   "metadata": {},
   "outputs": [],
   "source": [
    "url = []\n",
    "tot_page = len(driver.find_elements(By.TAG_NAME, 'li'))\n",
    "for i in range(2, 20):\n",
    "    page = i \n",
    "    \n",
    "    url.append(f'amazon.com/l-f-Cosmetics-flawless-foundation-lightweight/product-reviews/B07MWMY1HS/ref=cm_cr_getr_d_paging_btm_next_{str(page)}?ie=UTF8&reviewerType=all_reviews&pageNumber={str(page)}')"
   ]
  },
  {
   "cell_type": "code",
   "execution_count": null,
   "metadata": {},
   "outputs": [
    {
     "data": {
      "text/plain": [
       "'amazon.com/l-f-Cosmetics-flawless-foundation-lightweight/product-reviews/B07MWMY1HS/ref=cm_cr_getr_d_paging_btm_next_3?ie=UTF8&reviewerType=all_reviews&pageNumber=3'"
      ]
     },
     "metadata": {},
     "output_type": "display_data"
    }
   ],
   "source": [
    "url[1]"
   ]
  },
  {
   "cell_type": "code",
   "execution_count": 17,
   "metadata": {},
   "outputs": [
    {
     "data": {
      "text/plain": [
       "'Reviewed in the United States on October 10, 2022'"
      ]
     },
     "execution_count": 17,
     "metadata": {},
     "output_type": "execute_result"
    }
   ],
   "source": [
    "driver.find_element(By.XPATH, '/html/body/div[1]/div[3]/div/div[1]/div/div[1]/div[5]/div[3]/div/div[1]/div/div/span').text"
   ]
  },
  {
   "cell_type": "code",
   "execution_count": 3,
   "metadata": {},
   "outputs": [],
   "source": [
    "def amazon_reviews():\n",
    "    options = Options()\n",
    "    options.add_argument(\"--headless\")\n",
    "    options.add_argument(\"--window-soze = 1920x1080\")\n",
    "    options.add_argument(\"disable-gpu\")\n",
    "    driver_path= \"C:/Users/NTX550/Desktop/python/chromedriver.exe\"\n",
    "    s = Service(driver_path)\n",
    "\n",
    "    driver = webdriver.Chrome(service = s)\n",
    "    driver.implicitly_wait(2)\n",
    "    driver.set_window_size(600, 800)\n",
    "    url = 'https://www.amazon.com/Estee-Lauder-Double-Place-Makeup/product-reviews/B00A6G8YEM/ref=cm_cr_arp_d_paging_btm_next_2?ie=UTF8&reviewerType=all_reviews&pageNumber=2'\n",
    "    driver.get(url)\n",
    "\n",
    "    #driver.find_element(By.XPATH, '/html/body/div[1]/div[2]/div[9]/div[41]/div/div/div[2]/div/div[2]/span[3]/span/div[2]/div/div/div[2]/a').click()\n",
    "\n",
    "\n",
    "\n",
    "    # 사진 클릭 후 내용 들어가기\n",
    "    #driver.find_element(By.CSS_SELECTOR, '#search > div.s-desktop-width-max.s-desktop-content.s-opposite-dir.sg-row > div.s-matching-dir.sg-col-16-of-20.sg-col.sg-col-8-of-12.sg-col-12-of-16 > div > span.rush-component.s-latency-cf-section > div.s-main-slot.s-result-list.s-search-results.sg-row > div:nth-child(6) > div > div > div > div > div.s-product-image-container.aok-relative.s-image-overlay-grey.s-text-center.s-padding-left-small.s-padding-right-small.puis-spacing-small.s-height-equalized > span > a > div').click()\n",
    "    #driver.implicitly_wait(10)\n",
    "\n",
    "    # 리뷰 클릭\n",
    "    #driver.find_element(By.CSS_SELECTOR, '#acrCustomerReviewText').click()\n",
    "\n",
    "    #모든 리뷰 보기\n",
    "    #driver.find_element(By.CSS_SELECTOR, '#reviews-medley-footer > div.a-row.a-spacing-medium > a').click()\n",
    "    \n",
    "    #리뷰 수\n",
    "\n",
    "    reviews = []\n",
    "    colors = []\n",
    "    countries = []\n",
    "    page = 1\n",
    "\n",
    "    while True:\n",
    "        tot_page = len(driver.find_elements(By.TAG_NAME, 'li'))\n",
    "        rev = len(driver.find_elements(By.CLASS_NAME, 'a-section.celwidget'))\n",
    "        time.sleep(3)\n",
    "        source = driver.page_source\n",
    "        bs_obj = BeautifulSoup(source, 'html.parser')\n",
    "        \n",
    "        # 리뷰 \n",
    "        for a in range(2, 10):\n",
    "            review_path = '/html/body/div[1]/div[3]/div/div[1]/div/div[1]/div[5]/div[3]/div/div['+str(a)+']/div/div/div[4]/span'\n",
    "            review = driver.find_element(By.XPATH, review_path).text\n",
    "            reviews.append(review)\n",
    "            #/html/body/div[1]/div[3]/div/div[1]/div/div[1]/div[5]/div[3]/div/div[1]/div/div/div[4]/span\n",
    "        # 색상\n",
    "            color_path = '/html/body/div[1]/div[3]/div/div[1]/div/div[1]/div[5]/div[3]/div/div['+str(a)+']/div/div/div[3]/a[1]'\n",
    "            color = driver.find_element(By.XPATH, color_path).text\n",
    "            colors.append(color)\n",
    "        \n",
    "        # 나라\n",
    "            country_path = '/html/body/div[1]/div[3]/div/div[1]/div/div[1]/div[5]/div[3]/div/div['+str(a)+']/div/div/span'\n",
    "            country = driver.find_element(By.XPATH, country_path).text\n",
    "            countries.append(country)\n",
    "        \n",
    "        if len(reviews) == 8:\n",
    "            break\n",
    "        \n",
    "        driver.find_element(By.XPATH, '//*[@id=\"cm_cr-pagination_bar\"]/ul/li[2]/a').click()\n",
    "    df = pd.DataFrame({'review': reviews, 'color':colors, 'country' : countries})\n",
    "    \n",
    "    return df"
   ]
  },
  {
   "cell_type": "code",
   "execution_count": 4,
   "metadata": {},
   "outputs": [],
   "source": [
    "amazon_df = amazon_reviews()"
   ]
  },
  {
   "cell_type": "code",
   "execution_count": 5,
   "metadata": {},
   "outputs": [
    {
     "data": {
      "text/html": [
       "<div>\n",
       "<style scoped>\n",
       "    .dataframe tbody tr th:only-of-type {\n",
       "        vertical-align: middle;\n",
       "    }\n",
       "\n",
       "    .dataframe tbody tr th {\n",
       "        vertical-align: top;\n",
       "    }\n",
       "\n",
       "    .dataframe thead th {\n",
       "        text-align: right;\n",
       "    }\n",
       "</style>\n",
       "<table border=\"1\" class=\"dataframe\">\n",
       "  <thead>\n",
       "    <tr style=\"text-align: right;\">\n",
       "      <th></th>\n",
       "      <th>review</th>\n",
       "      <th>color</th>\n",
       "      <th>country</th>\n",
       "    </tr>\n",
       "  </thead>\n",
       "  <tbody>\n",
       "    <tr>\n",
       "      <th>0</th>\n",
       "      <td>I buy one of these a year. It doesn’t take muc...</td>\n",
       "      <td>Color: 3W1Tawny-Warm/GoldenUndertoneSize: 1 Fl...</td>\n",
       "      <td>Reviewed in the United States on January 8, 2022</td>\n",
       "    </tr>\n",
       "    <tr>\n",
       "      <th>1</th>\n",
       "      <td>I have been using Estee Lauder Doublewear for ...</td>\n",
       "      <td>Color: 3W1Tawny-Warm/GoldenUndertoneSize: 1 Fl...</td>\n",
       "      <td>Reviewed in the United States on March 10, 2020</td>\n",
       "    </tr>\n",
       "    <tr>\n",
       "      <th>2</th>\n",
       "      <td>My favorite foundation. Blends really well. Th...</td>\n",
       "      <td>Color: 3W1Tawny-Warm/GoldenUndertoneSize: 1 Fl...</td>\n",
       "      <td>Reviewed in the United States on February 19, ...</td>\n",
       "    </tr>\n",
       "    <tr>\n",
       "      <th>3</th>\n",
       "      <td>Large selection of colors to match your own sk...</td>\n",
       "      <td>Color: 3W1Tawny-Warm/GoldenUndertoneSize: 1 Fl...</td>\n",
       "      <td>Reviewed in the United States on December 5, 2021</td>\n",
       "    </tr>\n",
       "    <tr>\n",
       "      <th>4</th>\n",
       "      <td>This is an AMAZING product! I have been wearin...</td>\n",
       "      <td>Color: 3W1Tawny-Warm/GoldenUndertoneSize: 1 Fl...</td>\n",
       "      <td>Reviewed in the United States on September 16,...</td>\n",
       "    </tr>\n",
       "  </tbody>\n",
       "</table>\n",
       "</div>"
      ],
      "text/plain": [
       "                                              review  \\\n",
       "0  I buy one of these a year. It doesn’t take muc...   \n",
       "1  I have been using Estee Lauder Doublewear for ...   \n",
       "2  My favorite foundation. Blends really well. Th...   \n",
       "3  Large selection of colors to match your own sk...   \n",
       "4  This is an AMAZING product! I have been wearin...   \n",
       "\n",
       "                                               color  \\\n",
       "0  Color: 3W1Tawny-Warm/GoldenUndertoneSize: 1 Fl...   \n",
       "1  Color: 3W1Tawny-Warm/GoldenUndertoneSize: 1 Fl...   \n",
       "2  Color: 3W1Tawny-Warm/GoldenUndertoneSize: 1 Fl...   \n",
       "3  Color: 3W1Tawny-Warm/GoldenUndertoneSize: 1 Fl...   \n",
       "4  Color: 3W1Tawny-Warm/GoldenUndertoneSize: 1 Fl...   \n",
       "\n",
       "                                             country  \n",
       "0   Reviewed in the United States on January 8, 2022  \n",
       "1    Reviewed in the United States on March 10, 2020  \n",
       "2  Reviewed in the United States on February 19, ...  \n",
       "3  Reviewed in the United States on December 5, 2021  \n",
       "4  Reviewed in the United States on September 16,...  "
      ]
     },
     "execution_count": 5,
     "metadata": {},
     "output_type": "execute_result"
    }
   ],
   "source": [
    "amazon_df.head()"
   ]
  },
  {
   "cell_type": "code",
   "execution_count": 6,
   "metadata": {},
   "outputs": [
    {
     "data": {
      "text/plain": [
       "\"I have been using Estee Lauder Doublewear for years and I absolutely love the coverage and longevity! It's great alone, and it's also wonderful mixed with a moisturizer on days where I want lighter coverage. The first reason I give this product 4 stars is for the exact reason I love it---the longevity makes it incredibly hard to take off! I have to use a makeup remover wipe, then an oil cleanser, then a cream cleanser, all followed by a toner to make sure my skin is really free of makeup. The second reason is that the makeup is definitely comedogenic. I'm sure the fact that it's hard to remove also contributes to breakouts. I find that putting a small preventative layer of an acne cream before applying is essential to avoid breaking out.\""
      ]
     },
     "execution_count": 6,
     "metadata": {},
     "output_type": "execute_result"
    }
   ],
   "source": [
    "amazon_df['review'][1]"
   ]
  },
  {
   "cell_type": "code",
   "execution_count": 22,
   "metadata": {},
   "outputs": [],
   "source": [
    "from nltk.stem import PorterStemmer, LancasterStemmer\n",
    "from nltk.tag import pos_tag\n",
    "from nltk.tokenize import word_tokenize\n",
    "\n",
    "st1 = PorterStemmer()\n",
    "st2 = LancasterStemmer()\n",
    "\n",
    "data = amazon_df['review'][0].split(' ')\n",
    "lan_st2 = [st1.stem(w) for w in data]\n",
    "por_st1 = [st2.stem(w) for w in data]"
   ]
  },
  {
   "cell_type": "code",
   "execution_count": 20,
   "metadata": {},
   "outputs": [
    {
     "data": {
      "text/plain": [
       "['i', 'buy', 'one', 'of', 'these', 'a', 'year.', 'it', 'doesn’t', 'take']"
      ]
     },
     "execution_count": 20,
     "metadata": {},
     "output_type": "execute_result"
    }
   ],
   "source": [
    "lan_st2[:10]"
   ]
  },
  {
   "cell_type": "code",
   "execution_count": 35,
   "metadata": {},
   "outputs": [
    {
     "name": "stdout",
     "output_type": "stream",
     "text": [
      "영어 stop word 개수 : 179\n",
      "['i', 'me', 'my', 'myself', 'we', 'our', 'ours', 'ourselves', 'you', \"you're\", \"you've\", \"you'll\", \"you'd\", 'your', 'yours', 'yourself', 'yourselves', 'he', 'him', 'his']\n"
     ]
    },
    {
     "name": "stderr",
     "output_type": "stream",
     "text": [
      "[nltk_data] Downloading package stopwords to\n",
      "[nltk_data]     C:\\Users\\NTX550\\AppData\\Roaming\\nltk_data...\n",
      "[nltk_data]   Package stopwords is already up-to-date!\n"
     ]
    }
   ],
   "source": [
    "import nltk\n",
    "nltk.download('stopwords')\n",
    "\n",
    "\n",
    "print('영어 stop word 개수 :', len(nltk.corpus.stopwords.words('english')))\n",
    "print(nltk.corpus.stopwords.words('english')[:20])"
   ]
  },
  {
   "cell_type": "code",
   "execution_count": 43,
   "metadata": {},
   "outputs": [],
   "source": [
    "from nltk.stem import WordNetLemmatizer\n",
    "\n",
    "lemmatizer = WordNetLemmatizer()\n",
    "word_amazon = amazon_df['review'][0].split(' ')\n",
    "\n",
    "amazon_words = [lemmatizer.lemmatize(word) for word in word_amazon]"
   ]
  },
  {
   "cell_type": "code",
   "execution_count": 48,
   "metadata": {},
   "outputs": [
    {
     "data": {
      "text/plain": [
       "'buy'"
      ]
     },
     "execution_count": 48,
     "metadata": {},
     "output_type": "execute_result"
    }
   ],
   "source": [
    "amazon_words[1]"
   ]
  },
  {
   "cell_type": "code",
   "execution_count": 72,
   "metadata": {},
   "outputs": [],
   "source": [
    "from wordcloud import WordCloud\n",
    "from collections import Counter\n",
    "\n",
    "data = {}\n",
    "word_amazon = []\n",
    "lem_words = []\n",
    "\n",
    "for k in range(len(amazon_df['review'])):\n",
    "    word_amazon.append(amazon_df['review'][k].split(' '))\n",
    "\n",
    "for v in range(len(word_amazon)):\n",
    "    for word in word_amazon[v]:\n",
    "        \n",
    "        lem_words.append(lemmatizer.lemmatize(word).lower())"
   ]
  },
  {
   "cell_type": "code",
   "execution_count": 74,
   "metadata": {},
   "outputs": [
    {
     "data": {
      "text/plain": [
       "['buy',\n",
       " 'one',\n",
       " 'year.',\n",
       " 'doesn’t',\n",
       " 'take',\n",
       " 'much',\n",
       " 'cover',\n",
       " 'face',\n",
       " '…',\n",
       " 'wear',\n",
       " 'makeup',\n",
       " 'around',\n",
       " '2',\n",
       " 'time',\n",
       " 'week.',\n",
       " 'far',\n",
       " 'best',\n",
       " 'brand',\n",
       " 'tried',\n",
       " 'around',\n",
       " '10',\n",
       " 'different',\n",
       " 'kind',\n",
       " 'can’t',\n",
       " 'go',\n",
       " 'wrong',\n",
       " 'one.',\n",
       " 'using',\n",
       " 'estee',\n",
       " 'lauder',\n",
       " 'doublewear',\n",
       " 'year',\n",
       " 'absolutely',\n",
       " 'love',\n",
       " 'coverage',\n",
       " 'longevity!',\n",
       " 'great',\n",
       " 'alone,',\n",
       " 'also',\n",
       " 'wonderful',\n",
       " 'mixed',\n",
       " 'moisturizer',\n",
       " 'day',\n",
       " 'want',\n",
       " 'lighter',\n",
       " 'coverage.',\n",
       " 'first',\n",
       " 'reason',\n",
       " 'give',\n",
       " 'product',\n",
       " '4',\n",
       " 'star',\n",
       " 'exact',\n",
       " 'reason',\n",
       " 'love',\n",
       " 'it---the',\n",
       " 'longevity',\n",
       " 'make',\n",
       " 'incredibly',\n",
       " 'hard',\n",
       " 'take',\n",
       " 'off!',\n",
       " 'use',\n",
       " 'makeup',\n",
       " 'remover',\n",
       " 'wipe,',\n",
       " 'oil',\n",
       " 'cleanser,',\n",
       " 'cream',\n",
       " 'cleanser,',\n",
       " 'followed',\n",
       " 'toner',\n",
       " 'make',\n",
       " 'sure',\n",
       " 'skin',\n",
       " 'really',\n",
       " 'free',\n",
       " 'makeup.',\n",
       " 'second',\n",
       " 'reason',\n",
       " 'makeup',\n",
       " 'definitely',\n",
       " 'comedogenic.',\n",
       " \"i'm\",\n",
       " 'sure',\n",
       " 'fact',\n",
       " 'hard',\n",
       " 'remove',\n",
       " 'also',\n",
       " 'contributes',\n",
       " 'breakouts.',\n",
       " 'find',\n",
       " 'putting',\n",
       " 'small',\n",
       " 'preventative',\n",
       " 'layer',\n",
       " 'acne',\n",
       " 'cream',\n",
       " 'applying',\n",
       " 'essential',\n",
       " 'avoid',\n",
       " 'breaking',\n",
       " 'out.',\n",
       " 'favorite',\n",
       " 'foundation.',\n",
       " 'blends',\n",
       " 'really',\n",
       " 'well.',\n",
       " 'bottle',\n",
       " 'last',\n",
       " 'really',\n",
       " 'long',\n",
       " 'time.',\n",
       " 'large',\n",
       " 'selection',\n",
       " 'color',\n",
       " 'match',\n",
       " 'skin',\n",
       " 'tone.',\n",
       " 'lasts',\n",
       " 'day,',\n",
       " 'oily,',\n",
       " 'doesn’t',\n",
       " 'rub',\n",
       " 'turtlenecks.',\n",
       " 'amazing',\n",
       " 'product!',\n",
       " 'wearing',\n",
       " 'estée',\n",
       " 'lauder',\n",
       " 'foundation',\n",
       " 'nearly',\n",
       " '20',\n",
       " 'year',\n",
       " 'love',\n",
       " 'it!!',\n",
       " 'came',\n",
       " 'across',\n",
       " 'later',\n",
       " '20’s',\n",
       " 'used',\n",
       " 'work',\n",
       " 'lunch',\n",
       " 'didn’t',\n",
       " 'want',\n",
       " 'worry',\n",
       " 'reapplying',\n",
       " 'makeup',\n",
       " 'returning',\n",
       " 'work',\n",
       " 'held',\n",
       " 'beautifully!',\n",
       " 'even',\n",
       " 'showered',\n",
       " '(',\n",
       " 'careful',\n",
       " 'get',\n",
       " 'shampoo',\n",
       " 'face)',\n",
       " 'held',\n",
       " 'up!',\n",
       " 'skip',\n",
       " 'ahead',\n",
       " 'menopause.',\n",
       " 'wa',\n",
       " 'fortunate',\n",
       " 'enough',\n",
       " 'get',\n",
       " 'full',\n",
       " 'effect',\n",
       " 'menopause',\n",
       " 'hot',\n",
       " 'flash',\n",
       " 'toasted',\n",
       " 'bagel',\n",
       " 'touching',\n",
       " 'it!',\n",
       " '😩',\n",
       " 'lol.',\n",
       " 'still....it',\n",
       " 'held',\n",
       " 'up!!',\n",
       " 'skin',\n",
       " 'changed',\n",
       " 'dramatically',\n",
       " 'since',\n",
       " '20’s',\n",
       " 'won’t',\n",
       " 'change',\n",
       " 'foundation.',\n",
       " '🤗',\n",
       " 'excelente',\n",
       " 'producto',\n",
       " 'wife',\n",
       " 'love',\n",
       " 'foundation!',\n",
       " 'look',\n",
       " 'last',\n",
       " 'day,',\n",
       " 'without',\n",
       " 'touchups',\n",
       " 'say',\n",
       " 'best',\n",
       " 'bang',\n",
       " 'buck',\n",
       " 'tried',\n",
       " 'far.',\n",
       " 'think',\n",
       " 'beautiful',\n",
       " 'without',\n",
       " 'doe',\n",
       " 'look',\n",
       " 'little',\n",
       " 'sexier',\n",
       " 'on.',\n",
       " 'defenitly',\n",
       " 'feel',\n",
       " 'like',\n",
       " 'making',\n",
       " 'another',\n",
       " 'child',\n",
       " 'every',\n",
       " 'night',\n",
       " 'wear',\n",
       " 'this.',\n",
       " 'great',\n",
       " 'price',\n",
       " 'easy',\n",
       " 'order!']"
      ]
     },
     "execution_count": 74,
     "metadata": {},
     "output_type": "execute_result"
    }
   ],
   "source": [
    "from nltk.corpus import stopwords\n",
    "from nltk.tokenize import word_tokenize\n",
    "\n",
    "stop_words_list = stopwords.words('english')\n",
    "\n",
    "result = []\n",
    "for text in lem_words:\n",
    "    if text not in stop_words_list:\n",
    "        result.append(text)\n",
    "\n",
    "result"
   ]
  },
  {
   "cell_type": "code",
   "execution_count": 75,
   "metadata": {},
   "outputs": [],
   "source": [
    "counts = Counter(result)\n",
    "tags = counts.most_common(30)"
   ]
  },
  {
   "cell_type": "code",
   "execution_count": 76,
   "metadata": {},
   "outputs": [
    {
     "data": {
      "text/plain": [
       "[('makeup', 4),\n",
       " ('love', 4),\n",
       " ('reason', 3),\n",
       " ('skin', 3),\n",
       " ('really', 3),\n",
       " ('held', 3),\n",
       " ('doesn’t', 2),\n",
       " ('take', 2),\n",
       " ('wear', 2),\n",
       " ('around', 2),\n",
       " ('best', 2),\n",
       " ('tried', 2),\n",
       " ('lauder', 2),\n",
       " ('year', 2),\n",
       " ('great', 2),\n",
       " ('also', 2),\n",
       " ('want', 2),\n",
       " ('make', 2),\n",
       " ('hard', 2),\n",
       " ('cleanser,', 2),\n",
       " ('cream', 2),\n",
       " ('sure', 2),\n",
       " ('foundation.', 2),\n",
       " ('last', 2),\n",
       " ('day,', 2),\n",
       " ('20’s', 2),\n",
       " ('work', 2),\n",
       " ('get', 2),\n",
       " ('look', 2),\n",
       " ('without', 2)]"
      ]
     },
     "execution_count": 76,
     "metadata": {},
     "output_type": "execute_result"
    }
   ],
   "source": [
    "tags"
   ]
  },
  {
   "cell_type": "code",
   "execution_count": 80,
   "metadata": {},
   "outputs": [
    {
     "data": {
      "text/plain": [
       "'buy'"
      ]
     },
     "execution_count": 80,
     "metadata": {},
     "output_type": "execute_result"
    }
   ],
   "source": [
    "result[0]"
   ]
  },
  {
   "cell_type": "code",
   "execution_count": 78,
   "metadata": {},
   "outputs": [],
   "source": [
    "import nltk\n",
    "\n",
    "def post_tagging(token_list):\n",
    "    pos_list = list()\n",
    "\n",
    "    for sentence in token_list:\n",
    "        pos_list.append(nltk.pos_tag(sentence))\n",
    "\n",
    "    return pos_list"
   ]
  },
  {
   "cell_type": "code",
   "execution_count": 82,
   "metadata": {},
   "outputs": [],
   "source": [
    "pos_list = nltk.pos_tag(result)"
   ]
  },
  {
   "cell_type": "code",
   "execution_count": null,
   "metadata": {},
   "outputs": [],
   "source": [
    "def lemmatzation(pos_list):\n",
    "    lemma_list = list()\n",
    "    lemmatizer = nlkt.stem.WordNetLemmatizer()\n",
    "    for sentence in pos_list:\n",
    "\n",
    "        func_j2a = lambda x : x if x != 'j' else 'a'\n",
    "        pos_contraction = [(token, func_j2a(pos.lower()[0])) for token, pos in sentence if pos[0] in ['V', 'J', 'N', 'R']]\n",
    "\n",
    "        lemma_list.append([lemmatizer.lemmatize])"
   ]
  }
 ],
 "metadata": {
  "kernelspec": {
   "display_name": "Python 3.9.12 ('base')",
   "language": "python",
   "name": "python3"
  },
  "language_info": {
   "codemirror_mode": {
    "name": "ipython",
    "version": 3
   },
   "file_extension": ".py",
   "mimetype": "text/x-python",
   "name": "python",
   "nbconvert_exporter": "python",
   "pygments_lexer": "ipython3",
   "version": "3.9.12"
  },
  "orig_nbformat": 4,
  "vscode": {
   "interpreter": {
    "hash": "aca97298169bc572c3ec470dd784ff61581ee58d26737e53ade8f07e1a83bfa3"
   }
  }
 },
 "nbformat": 4,
 "nbformat_minor": 2
}
