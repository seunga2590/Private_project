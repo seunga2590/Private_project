{
 "cells": [
  {
   "cell_type": "code",
   "execution_count": null,
   "metadata": {},
   "outputs": [],
   "source": [
    "from selenium.webdriver.support.ui import WebDriverWait\n",
    "from selenium.webdriver.support import expected_conditions as EC\n",
    "from selenium.webdriver.common.by import By\n",
    "from selenium.webdriver.common.keys import Keys\n",
    "from selenium.webdriver.chrome.options import Options\n",
    "import requests\n",
    "from bs4 import BeautifulSoup\n",
    "import pandas as pd\n",
    "import os\n",
    "import requests\n",
    "import re\n",
    "import time\n",
    "from datetime import datetime\n",
    "from selenium.webdriver.common.action_chains import ActionChains\n",
    "import json\n",
    "from selenium.webdriver.chrome.service import Service\n",
    "from selenium import webdriver"
   ]
  },
  {
   "cell_type": "code",
   "execution_count": null,
   "metadata": {},
   "outputs": [],
   "source": [
    "driver_path= \"C:/Users/NTX550/Desktop/python/chromedriver.exe\"\n",
    "s = Service(driver_path)\n",
    "driver = webdriver.Chrome(service = s)\n",
    "driver.implicitly_wait(2)\n",
    "driver.set_window_size(600, 800)\n",
    "url = 'https://www.oliveyoung.co.kr/store/goods/getGoodsDetail.do?goodsNo=A000000150747&dispCatNo=1000001000200010002&trackingCd=Result_2'\n",
    "driver.get(url)"
   ]
  },
  {
   "cell_type": "code",
   "execution_count": null,
   "metadata": {},
   "outputs": [],
   "source": [
    "driver.find_element(By.XPATH, '/html/body/div[3]/div[9]/div/ul/li[3]').click()"
   ]
  },
  {
   "cell_type": "code",
   "execution_count": null,
   "metadata": {},
   "outputs": [
    {
     "data": {
      "text/plain": [
       "\"제가 평소에 쓰는 제품들에 비해 너무 비싼데 주말에 중요한 약속이 있어서 눈 딱 감고 구매했어요 ㅠㅠ\\n마스크 쓰기 시작하면서 부터는 밖에 나갈일도 적고 약속도 없고 해서 늘 피부화장에 신경을 잘 안쓰다가 요즘 코로나가 좀 풀리고 약속들도 나가게 되었는데요...어느날 약속장소에서 마스크 벗은 거울을 보니까 베이스가 끼이고 밀리고 찍히고 난리난 피부를 발견...진짜 충격 ㅠㅠ 그래서 좋은 파데를 찾다가 사람들이 입이 마르게 추천하길래 샀어요. \\n\\n❤지속력❤\\n제가 에xx아, 클x오, 바xx코, 에x드 등등 진짜 파데나 쿠션이란 쿠션은 다 사서 썼었는데 정말 다 찍히고 끼이고...맘에 안들고...ㅠㅠ 그냥 제 피부가 문제구나 하고 살고있었어요\\n근데 요거 써보고나서 와...내가 여태까지 별로인 제품을 바르고 있었구나 싶었던...사람들이 추천하는건 이유가 있더라구요...\\n아침에 화장하고 피시방도 갔다가 저녁에 술도마시고 늦게 집에왔는데 뭐 찍힘 같은것도 없이 얼굴이 그대로더라구요...수정화장도 안했는데ㅋㅋ진짜 신기한... 손등에 테스트 했을때도 바르고 말린다음 긁어봤는데 전혀 안긁혀나요...오히려 빨개지기만 하는 손등....진심 찬양합니다ㅠㅠ\\n\\n❤제형❤\\n다른 파데들 보다 더 묽어서 흘러내리는 제형입니다!! 많이 짜거나 각도조절 못하면 흘러내리니 주의하세여!\\n\\n❤컬러❤\\n제가 18호~21호 사이 어딘가의 봄웜라이트 피부를 갖고있는데 제일 잘 맞았던거 같아요 너무 밝지않고 화사하게 밝아지고 안색도 좋아보여요! 피부가 21호나 좀 더 어두운것 같다 하면 본컬러? 그거 쓰시면 될 것 같아요\\n\\n❤사용팁❤\\n제가 미숙함에 잘못발라서 한 번 지워보고 다시 바른 사람이라 말씀드립니다ㅠㅠ 이거 디게 빨리 마르고 픽싱되요! 혹시 스펀지만으로 두들두들 하시려고 한다면 <100퍼 얼룩질거라 확신합니다...> 가장 잘 쓰는 방법은 '파운데이션 브러시'로 얼굴 절반을 펴발라주시고 스펀지나 퍼프로 두들겨서 밀착시켜주세요! 꼭 반절씩!! 속도는 최대한 빠르게!!! 저 처음에 퍼프로만 바르다가 얼룩져서 세수하고 다시했어요 ㅠㅠ 꼭 주의하시길 파운데이션 브러시 필수에요!! 그리고 기초는 꼭 촉촉하게! 저도 지성인데 촉촉하게 해도 좋았어요 정말 꼭꼭 참고하세여\""
      ]
     },
     "metadata": {},
     "output_type": "display_data"
    }
   ],
   "source": [
    "driver.find_element(By.XPATH, '/html/body/div[3]/div[9]/div/div[9]/div/div[7]/ul/li[1]/div[2]/div[3]').text"
   ]
  },
  {
   "cell_type": "code",
   "execution_count": null,
   "metadata": {},
   "outputs": [
    {
     "data": {
      "text/plain": [
       "'[옵션] 2C0 쿨 바닐라'"
      ]
     },
     "metadata": {},
     "output_type": "display_data"
    }
   ],
   "source": [
    "driver.find_element(By.XPATH, '/html/body/div[3]/div[9]/div/div[9]/div/div[7]/ul/li[2]/div[2]/p[1]').text"
   ]
  },
  {
   "cell_type": "code",
   "execution_count": null,
   "metadata": {},
   "outputs": [
    {
     "data": {
      "text/plain": [
       "349"
      ]
     },
     "metadata": {},
     "output_type": "display_data"
    }
   ],
   "source": [
    "len(driver.find_elements(By.TAG_NAME, 'li'))"
   ]
  },
  {
   "cell_type": "code",
   "execution_count": null,
   "metadata": {},
   "outputs": [],
   "source": [
    "def oy_reviews():\n",
    "    options = Options()\n",
    "    options.add_argument(\"--headless\")\n",
    "    options.add_argument(\"--window-soze = 1920x1080\")\n",
    "    options.add_argument(\"disable-gpu\")\n",
    "    driver_path= \"C:/Users/NTX550/Desktop/python/chromedriver.exe\"\n",
    "    s = Service(driver_path)\n",
    "\n",
    "    driver = webdriver.Chrome(service = s)\n",
    "    driver.implicitly_wait(2)\n",
    "    driver.set_window_size(600, 800)\n",
    "    url = 'https://www.oliveyoung.co.kr/store/goods/getGoodsDetail.do?goodsNo=A000000150747&dispCatNo=1000001000200010002&trackingCd=Result_2'\n",
    "    driver.get(url)\n",
    "\n",
    "    driver.find_element(By.XPATH, '/html/body/div[3]/div[9]/div/ul/li[3]').click()\n",
    "\n",
    "    # 사진 클릭 후 내용 들어가기\n",
    "    #driver.find_element(By.CSS_SELECTOR, '#search > div.s-desktop-width-max.s-desktop-content.s-opposite-dir.sg-row > div.s-matching-dir.sg-col-16-of-20.sg-col.sg-col-8-of-12.sg-col-12-of-16 > div > span.rush-component.s-latency-cf-section > div.s-main-slot.s-result-list.s-search-results.sg-row > div:nth-child(6) > div > div > div > div > div.s-product-image-container.aok-relative.s-image-overlay-grey.s-text-center.s-padding-left-small.s-padding-right-small.puis-spacing-small.s-height-equalized > span > a > div').click()\n",
    "    #driver.implicitly_wait(10)\n",
    "\n",
    "    # 리뷰 클릭\n",
    "    #driver.find_element(By.CSS_SELECTOR, '#acrCustomerReviewText').click()\n",
    "\n",
    "    #모든 리뷰 보기\n",
    "    #driver.find_element(By.CSS_SELECTOR, '#reviews-medley-footer > div.a-row.a-spacing-medium > a').click()\n",
    "    \n",
    "    #리뷰 수\n",
    "    rev = len(driver.find_elements(By.TAG_NAME, 'li'))\n",
    "    \n",
    "    reviews = []\n",
    "    colors = []\n",
    "    \n",
    "    while True:\n",
    "        tot_page = len(driver.find_elements(By.TAG_NAME, 'li'))\n",
    "        time.sleep(3)\n",
    "        source = driver.page_source\n",
    "        bs_obj = BeautifulSoup(source, 'html.parser')\n",
    "        \n",
    "        # 리뷰 \n",
    "        for a in range(2, 7):\n",
    "            review_path = '/html/body/div[3]/div[9]/div/div[9]/div/div[7]/ul/li['+str(a)+']/div[2]/div[3]'\n",
    "            review = driver.find_element(By.XPATH, review_path).text\n",
    "            reviews.append(review)\n",
    "            #/html/body/div[1]/div[3]/div/div[1]/div/div[1]/div[5]/div[3]/div/div[1]/div/div/div[4]/span\n",
    "\n",
    "        # 색상\n",
    "        for b in range(2, 7):\n",
    "            color_path = '/html/body/div[3]/div[9]/div/div[9]/div/div[7]/ul/li['+str(b)+']/div[2]/p[1]'\n",
    "            color = driver.find_element(By.XPATH, color_path).text\n",
    "            if color != '':\n",
    "                colors.append(color)\n",
    "            else:\n",
    "                colors = ''\n",
    "        \n",
    "        if len(reviews) == 5:\n",
    "            break\n",
    "\n",
    "    for i in range(tot_page):\n",
    "        driver.find_element(By.XPATH, '/html/body/div[3]/div[9]/div/div[9]/div/div[8]/a['+str(i)+']').click()\n",
    "        #/html/body/div[3]/div[9]/div/div[9]/div/div[8]/a[1]\n",
    "\n",
    "    driver.close()\n",
    "    driver.quit()\n",
    "        \n",
    "    df = pd.DataFrame({'review': reviews, 'color':colors})\n",
    "        \n",
    "    return df"
   ]
  },
  {
   "cell_type": "code",
   "execution_count": null,
   "metadata": {},
   "outputs": [],
   "source": [
    "driver.find_element(By.XPATH, '/html/body/div[3]/div[9]/div/div[9]/div/div[8]/a[2]').click()"
   ]
  },
  {
   "cell_type": "code",
   "execution_count": null,
   "metadata": {},
   "outputs": [],
   "source": [
    "def oy_reviews():\n",
    "    options = Options()\n",
    "    options.add_argument(\"--headless\")\n",
    "    options.add_argument(\"--window-soze = 1920x1080\")\n",
    "    options.add_argument(\"disable-gpu\")\n",
    "    driver_path= \"C:/Users/NTX550/Desktop/python/chromedriver.exe\"\n",
    "    s = Service(driver_path)\n",
    "\n",
    "    driver = webdriver.Chrome(service = s)\n",
    "    driver.implicitly_wait(2)\n",
    "    driver.set_window_size(600, 800)\n",
    "    url = 'https://www.oliveyoung.co.kr/store/goods/getGoodsDetail.do?goodsNo=A000000150747&dispCatNo=1000001000200010002&trackingCd=Result_2'\n",
    "    driver.get(url)\n",
    "\n",
    "    driver.find_element(By.XPATH, '/html/body/div[3]/div[9]/div/ul/li[3]').click()\n",
    "\n",
    "    # 사진 클릭 후 내용 들어가기\n",
    "    #driver.find_element(By.CSS_SELECTOR, '#search > div.s-desktop-width-max.s-desktop-content.s-opposite-dir.sg-row > div.s-matching-dir.sg-col-16-of-20.sg-col.sg-col-8-of-12.sg-col-12-of-16 > div > span.rush-component.s-latency-cf-section > div.s-main-slot.s-result-list.s-search-results.sg-row > div:nth-child(6) > div > div > div > div > div.s-product-image-container.aok-relative.s-image-overlay-grey.s-text-center.s-padding-left-small.s-padding-right-small.puis-spacing-small.s-height-equalized > span > a > div').click()\n",
    "    #driver.implicitly_wait(10)\n",
    "\n",
    "    # 리뷰 클릭\n",
    "    #driver.find_element(By.CSS_SELECTOR, '#acrCustomerReviewText').click()\n",
    "\n",
    "    #모든 리뷰 보기\n",
    "    #driver.find_element(By.CSS_SELECTOR, '#reviews-medley-footer > div.a-row.a-spacing-medium > a').click()\n",
    "    \n",
    "    #리뷰 수\n",
    "    rev = len(driver.find_elements(By.TAG_NAME, 'li'))\n",
    "    tot_page = len(driver.find_elements(By.TAG_NAME, 'li'))\n",
    "    reviews = []\n",
    "    colors = []\n",
    "    for i in range(2, tot_page):\n",
    "        driver.find_element(By.XPATH, '/html/body/div[3]/div[9]/div/div[9]/div/div[8]/a['+str(i)+']').click()\n",
    "\n",
    "        while True:\n",
    "            time.sleep(3)\n",
    "            source = driver.page_source\n",
    "            bs_obj = BeautifulSoup(source, 'html.parser')\n",
    "            \n",
    "            # 리뷰 \n",
    "            for a in range(2, 7):\n",
    "                review_path = '/html/body/div[3]/div[9]/div/div[9]/div/div[7]/ul/li['+str(a)+']/div[2]/div[3]'\n",
    "                review = driver.find_element(By.XPATH, review_path).text\n",
    "                reviews.append(review)\n",
    "                #/html/body/div[1]/div[3]/div/div[1]/div/div[1]/div[5]/div[3]/div/div[1]/div/div/div[4]/span\n",
    "\n",
    "            # 색상\n",
    "            for b in range(2, 7):\n",
    "                color_path = '/html/body/div[3]/div[9]/div/div[9]/div/div[7]/ul/li['+str(b)+']/div[2]/p[1]'\n",
    "                color = driver.find_element(By.XPATH, color_path).text\n",
    "                if color != '':\n",
    "                    colors.append(color)\n",
    "                else:\n",
    "                    colors = ''\n",
    "            \n",
    "            if len(reviews) == 3:\n",
    "                break\n",
    "\n",
    "    driver.close()\n",
    "    driver.quit()\n",
    "        \n",
    "    df = pd.DataFrame({'review': reviews, 'color':colors})\n",
    "        \n",
    "    return df"
   ]
  },
  {
   "cell_type": "code",
   "execution_count": null,
   "metadata": {},
   "outputs": [],
   "source": [
    "oy_reviews()"
   ]
  },
  {
   "cell_type": "code",
   "execution_count": 2,
   "metadata": {},
   "outputs": [],
   "source": [
    "driver_path= \"C:/Users/NTX550/Desktop/python/chromedriver.exe\"\n",
    "s = Service(driver_path)\n",
    "driver = webdriver.Chrome(service = s)\n",
    "driver.implicitly_wait(2)\n",
    "driver.set_window_size(600, 800)\n",
    "url = 'https://www.oliveyoung.co.kr/store/goods/getGoodsDetail.do?goodsNo=A000000150747&dispCatNo=1000001000200010002&trackingCd=Result_2'\n",
    "driver.get(url)"
   ]
  },
  {
   "cell_type": "code",
   "execution_count": 3,
   "metadata": {},
   "outputs": [],
   "source": [
    "driver.find_element(By.XPATH, '/html/body/div[3]/div[9]/div/ul/li[3]').click()"
   ]
  },
  {
   "cell_type": "code",
   "execution_count": 4,
   "metadata": {},
   "outputs": [
    {
     "data": {
      "text/plain": [
       "\"제가 평소에 쓰는 제품들에 비해 너무 비싼데 주말에 중요한 약속이 있어서 눈 딱 감고 구매했어요 ㅠㅠ\\n마스크 쓰기 시작하면서 부터는 밖에 나갈일도 적고 약속도 없고 해서 늘 피부화장에 신경을 잘 안쓰다가 요즘 코로나가 좀 풀리고 약속들도 나가게 되었는데요...어느날 약속장소에서 마스크 벗은 거울을 보니까 베이스가 끼이고 밀리고 찍히고 난리난 피부를 발견...진짜 충격 ㅠㅠ 그래서 좋은 파데를 찾다가 사람들이 입이 마르게 추천하길래 샀어요. \\n\\n❤지속력❤\\n제가 에xx아, 클x오, 바xx코, 에x드 등등 진짜 파데나 쿠션이란 쿠션은 다 사서 썼었는데 정말 다 찍히고 끼이고...맘에 안들고...ㅠㅠ 그냥 제 피부가 문제구나 하고 살고있었어요\\n근데 요거 써보고나서 와...내가 여태까지 별로인 제품을 바르고 있었구나 싶었던...사람들이 추천하는건 이유가 있더라구요...\\n아침에 화장하고 피시방도 갔다가 저녁에 술도마시고 늦게 집에왔는데 뭐 찍힘 같은것도 없이 얼굴이 그대로더라구요...수정화장도 안했는데ㅋㅋ진짜 신기한... 손등에 테스트 했을때도 바르고 말린다음 긁어봤는데 전혀 안긁혀나요...오히려 빨개지기만 하는 손등....진심 찬양합니다ㅠㅠ\\n\\n❤제형❤\\n다른 파데들 보다 더 묽어서 흘러내리는 제형입니다!! 많이 짜거나 각도조절 못하면 흘러내리니 주의하세여!\\n\\n❤컬러❤\\n제가 18호~21호 사이 어딘가의 봄웜라이트 피부를 갖고있는데 제일 잘 맞았던거 같아요 너무 밝지않고 화사하게 밝아지고 안색도 좋아보여요! 피부가 21호나 좀 더 어두운것 같다 하면 본컬러? 그거 쓰시면 될 것 같아요\\n\\n❤사용팁❤\\n제가 미숙함에 잘못발라서 한 번 지워보고 다시 바른 사람이라 말씀드립니다ㅠㅠ 이거 디게 빨리 마르고 픽싱되요! 혹시 스펀지만으로 두들두들 하시려고 한다면 <100퍼 얼룩질거라 확신합니다...> 가장 잘 쓰는 방법은 '파운데이션 브러시'로 얼굴 절반을 펴발라주시고 스펀지나 퍼프로 두들겨서 밀착시켜주세요! 꼭 반절씩!! 속도는 최대한 빠르게!!! 저 처음에 퍼프로만 바르다가 얼룩져서 세수하고 다시했어요 ㅠㅠ 꼭 주의하시길 파운데이션 브러시 필수에요!! 그리고 기초는 꼭 촉촉하게! 저도 지성인데 촉촉하게 해도 좋았어요 정말 꼭꼭 참고하세여\""
      ]
     },
     "execution_count": 4,
     "metadata": {},
     "output_type": "execute_result"
    }
   ],
   "source": [
    "driver.find_element(By.XPATH, '/html/body/div[3]/div[9]/div/div[9]/div/div[7]/ul/li[1]/div[2]/div[3]').text"
   ]
  },
  {
   "cell_type": "code",
   "execution_count": 5,
   "metadata": {},
   "outputs": [
    {
     "data": {
      "text/plain": [
       "'[옵션] 2C0 쿨 바닐라'"
      ]
     },
     "execution_count": 5,
     "metadata": {},
     "output_type": "execute_result"
    }
   ],
   "source": [
    "driver.find_element(By.XPATH, '/html/body/div[3]/div[9]/div/div[9]/div/div[7]/ul/li[2]/div[2]/p[1]').text"
   ]
  },
  {
   "cell_type": "code",
   "execution_count": 6,
   "metadata": {},
   "outputs": [
    {
     "data": {
      "text/plain": [
       "349"
      ]
     },
     "execution_count": 6,
     "metadata": {},
     "output_type": "execute_result"
    }
   ],
   "source": [
    "len(driver.find_elements(By.TAG_NAME, 'li'))"
   ]
  },
  {
   "cell_type": "code",
   "execution_count": 7,
   "metadata": {},
   "outputs": [],
   "source": [
    "def oy_reviews():\n",
    "    options = Options()\n",
    "    options.add_argument(\"--headless\")\n",
    "    options.add_argument(\"--window-soze = 1920x1080\")\n",
    "    options.add_argument(\"disable-gpu\")\n",
    "    driver_path= \"C:/Users/NTX550/Desktop/python/chromedriver.exe\"\n",
    "    s = Service(driver_path)\n",
    "\n",
    "    driver = webdriver.Chrome(service = s)\n",
    "    driver.implicitly_wait(2)\n",
    "    driver.set_window_size(600, 800)\n",
    "    url = 'https://www.oliveyoung.co.kr/store/goods/getGoodsDetail.do?goodsNo=A000000150747&dispCatNo=1000001000200010002&trackingCd=Result_2'\n",
    "    driver.get(url)\n",
    "\n",
    "    driver.find_element(By.XPATH, '/html/body/div[3]/div[9]/div/ul/li[3]').click()\n",
    "\n",
    "    # 사진 클릭 후 내용 들어가기\n",
    "    #driver.find_element(By.CSS_SELECTOR, '#search > div.s-desktop-width-max.s-desktop-content.s-opposite-dir.sg-row > div.s-matching-dir.sg-col-16-of-20.sg-col.sg-col-8-of-12.sg-col-12-of-16 > div > span.rush-component.s-latency-cf-section > div.s-main-slot.s-result-list.s-search-results.sg-row > div:nth-child(6) > div > div > div > div > div.s-product-image-container.aok-relative.s-image-overlay-grey.s-text-center.s-padding-left-small.s-padding-right-small.puis-spacing-small.s-height-equalized > span > a > div').click()\n",
    "    #driver.implicitly_wait(10)\n",
    "\n",
    "    # 리뷰 클릭\n",
    "    #driver.find_element(By.CSS_SELECTOR, '#acrCustomerReviewText').click()\n",
    "\n",
    "    #모든 리뷰 보기\n",
    "    #driver.find_element(By.CSS_SELECTOR, '#reviews-medley-footer > div.a-row.a-spacing-medium > a').click()\n",
    "    \n",
    "    #리뷰 수\n",
    "    rev = len(driver.find_elements(By.TAG_NAME, 'li'))\n",
    "    \n",
    "    reviews = []\n",
    "    colors = []\n",
    "    \n",
    "    while True:\n",
    "        tot_page = len(driver.find_elements(By.TAG_NAME, 'li'))\n",
    "        time.sleep(3)\n",
    "        source = driver.page_source\n",
    "        bs_obj = BeautifulSoup(source, 'html.parser')\n",
    "        \n",
    "        # 리뷰 \n",
    "        for a in range(2, 7):\n",
    "            review_path = '/html/body/div[3]/div[9]/div/div[9]/div/div[7]/ul/li['+str(a)+']/div[2]/div[3]'\n",
    "            review = driver.find_element(By.XPATH, review_path).text\n",
    "            reviews.append(review)\n",
    "            #/html/body/div[1]/div[3]/div/div[1]/div/div[1]/div[5]/div[3]/div/div[1]/div/div/div[4]/span\n",
    "\n",
    "        # 색상\n",
    "        for b in range(2, 7):\n",
    "            color_path = '/html/body/div[3]/div[9]/div/div[9]/div/div[7]/ul/li['+str(b)+']/div[2]/p[1]'\n",
    "            color = driver.find_element(By.XPATH, color_path).text\n",
    "            if color != '':\n",
    "                colors.append(color)\n",
    "            else:\n",
    "                colors = ''\n",
    "        \n",
    "        if len(reviews) == 5:\n",
    "            break\n",
    "\n",
    "    for i in range(3):\n",
    "        driver.find_element(By.XPATH, '/html/body/div[3]/div[9]/div/div[9]/div/div[8]/a['+str(i)+']').click()\n",
    "        #/html/body/div[3]/div[9]/div/div[9]/div/div[8]/a[1]\n",
    "\n",
    "    driver.close()\n",
    "    driver.quit()\n",
    "        \n",
    "    df = pd.DataFrame({'review': reviews, 'color':colors})\n",
    "        \n",
    "    return df"
   ]
  },
  {
   "cell_type": "code",
   "execution_count": 8,
   "metadata": {},
   "outputs": [],
   "source": [
    "driver.find_element(By.XPATH, '/html/body/div[3]/div[9]/div/div[9]/div/div[8]/a[2]').click()"
   ]
  },
  {
   "cell_type": "code",
   "execution_count": 12,
   "metadata": {},
   "outputs": [],
   "source": [
    "def oy_reviews():\n",
    "    options = Options()\n",
    "    options.add_argument(\"--headless\")\n",
    "    options.add_argument(\"--window-soze = 1920x1080\")\n",
    "    options.add_argument(\"disable-gpu\")\n",
    "    driver_path= \"C:/Users/NTX550/Desktop/python/chromedriver.exe\"\n",
    "    s = Service(driver_path)\n",
    "\n",
    "    driver = webdriver.Chrome(service = s)\n",
    "    driver.implicitly_wait(2)\n",
    "    driver.set_window_size(600, 800)\n",
    "    url = 'https://www.oliveyoung.co.kr/store/goods/getGoodsDetail.do?goodsNo=A000000150747&dispCatNo=1000001000200010002&trackingCd=Result_2'\n",
    "    driver.get(url)\n",
    "\n",
    "    driver.find_element(By.XPATH, '/html/body/div[3]/div[9]/div/ul/li[3]').click()\n",
    "\n",
    "    # 사진 클릭 후 내용 들어가기\n",
    "    #driver.find_element(By.CSS_SELECTOR, '#search > div.s-desktop-width-max.s-desktop-content.s-opposite-dir.sg-row > div.s-matching-dir.sg-col-16-of-20.sg-col.sg-col-8-of-12.sg-col-12-of-16 > div > span.rush-component.s-latency-cf-section > div.s-main-slot.s-result-list.s-search-results.sg-row > div:nth-child(6) > div > div > div > div > div.s-product-image-container.aok-relative.s-image-overlay-grey.s-text-center.s-padding-left-small.s-padding-right-small.puis-spacing-small.s-height-equalized > span > a > div').click()\n",
    "    #driver.implicitly_wait(10)\n",
    "\n",
    "    # 리뷰 클릭\n",
    "    #driver.find_element(By.CSS_SELECTOR, '#acrCustomerReviewText').click()\n",
    "\n",
    "    #모든 리뷰 보기\n",
    "    #driver.find_element(By.CSS_SELECTOR, '#reviews-medley-footer > div.a-row.a-spacing-medium > a').click()\n",
    "    \n",
    "    #리뷰 수\n",
    "    rev = len(driver.find_elements(By.TAG_NAME, 'li'))\n",
    "    tot_page = len(driver.find_elements(By.TAG_NAME, 'li'))\n",
    "    reviews = []\n",
    "    colors = []\n",
    "    #for i in range(2, 3):\n",
    "    #    driver.find_element(By.XPATH, '/html/body/div[3]/div[9]/div/div[9]/div/div[8]/a['+str(i)+']').click()\n",
    "\n",
    "    while True:\n",
    "        time.sleep(3)\n",
    "        source = driver.page_source\n",
    "        bs_obj = BeautifulSoup(source, 'html.parser')\n",
    "            \n",
    "            # 리뷰 \n",
    "        for a in range(2, 7):\n",
    "            review_path = '/html/body/div[3]/div[9]/div/div[9]/div/div[7]/ul/li['+str(a)+']/div[2]/div[3]'\n",
    "            review = driver.find_element(By.XPATH, review_path).text\n",
    "            reviews.append(review)\n",
    "                #/html/body/div[1]/div[3]/div/div[1]/div/div[1]/div[5]/div[3]/div/div[1]/div/div/div[4]/span\n",
    "\n",
    "            # 색상\n",
    "        for b in range(2, 7):\n",
    "            color_path = '/html/body/div[3]/div[9]/div/div[9]/div/div[7]/ul/li['+str(b)+']/div[2]/p[1]'\n",
    "            color = driver.find_element(By.XPATH, color_path).text\n",
    "            if color != '':\n",
    "                colors.append(color)\n",
    "            else:\n",
    "                colors = ''\n",
    "            \n",
    "        if len(reviews) == 3:\n",
    "            break\n",
    "\n",
    "    driver.close()\n",
    "    driver.quit()\n",
    "        \n",
    "    df = pd.DataFrame({'review': reviews, 'color':colors})\n",
    "        \n",
    "    return df"
   ]
  },
  {
   "cell_type": "code",
   "execution_count": null,
   "metadata": {},
   "outputs": [],
   "source": []
  }
 ],
 "metadata": {
  "kernelspec": {
   "display_name": "Python 3.9.12 ('base')",
   "language": "python",
   "name": "python3"
  },
  "language_info": {
   "codemirror_mode": {
    "name": "ipython",
    "version": 3
   },
   "file_extension": ".py",
   "mimetype": "text/x-python",
   "name": "python",
   "nbconvert_exporter": "python",
   "pygments_lexer": "ipython3",
   "version": "3.9.12"
  },
  "orig_nbformat": 4,
  "vscode": {
   "interpreter": {
    "hash": "aca97298169bc572c3ec470dd784ff61581ee58d26737e53ade8f07e1a83bfa3"
   }
  }
 },
 "nbformat": 4,
 "nbformat_minor": 2
}
