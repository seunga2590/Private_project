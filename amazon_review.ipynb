{
 "cells": [
  {
   "cell_type": "code",
   "execution_count": 147,
   "metadata": {},
   "outputs": [],
   "source": [
    "from selenium.webdriver.support.ui import WebDriverWait\n",
    "from selenium.webdriver.support import expected_conditions as EC\n",
    "from selenium.webdriver.common.by import By\n",
    "from selenium.webdriver.common.keys import Keys\n",
    "from selenium.webdriver.chrome.options import Options\n",
    "import requests\n",
    "from bs4 import BeautifulSoup\n",
    "import pandas as pd\n",
    "import os\n",
    "import requests\n",
    "import re\n",
    "import time\n",
    "from datetime import datetime\n",
    "from selenium.webdriver.common.action_chains import ActionChains\n",
    "import json\n",
    "from selenium.webdriver.chrome.service import Service\n",
    "from selenium import webdriver\n",
    "from tqdm import tqdm"
   ]
  },
  {
   "cell_type": "code",
   "execution_count": 148,
   "metadata": {},
   "outputs": [],
   "source": [
    "driver_path= \"C:/Users/NTX550/Desktop/python/chromedriver.exe\"\n",
    "s = Service(driver_path)\n",
    "driver = webdriver.Chrome(service = s)\n",
    "driver.implicitly_wait(2)\n",
    "driver.set_window_size(600, 800)\n",
    "url = 'https://www.amazon.com/s?k=foundation&sprefix=foundation%2Caps%2C320&ref=nb_sb_ss_pltr-ranker-opsacceptance_1_10'\n",
    "driver.get(url)\n",
    "\n",
    "# 사진 클릭 후 내용 들어가기\n",
    "driver.find_element(By.CSS_SELECTOR, '#search > div.s-desktop-width-max.s-desktop-content.s-opposite-dir.sg-row > div.s-matching-dir.sg-col-16-of-20.sg-col.sg-col-8-of-12.sg-col-12-of-16 > div > span.rush-component.s-latency-cf-section > div.s-main-slot.s-result-list.s-search-results.sg-row > div:nth-child(6) > div > div > div > div > div.s-product-image-container.aok-relative.s-image-overlay-grey.s-text-center.s-padding-left-small.s-padding-right-small.puis-spacing-micro.s-height-equalized > span > a > div').click()\n",
    "driver.implicitly_wait(10)\n",
    "\n",
    "# 리뷰 클릭\n",
    "driver.find_element(By.CSS_SELECTOR, '#acrCustomerReviewText').click()\n",
    "\n",
    "#모든 리뷰 보기\n",
    "driver.find_element(By.CSS_SELECTOR, '#reviews-medley-footer > div.a-row.a-spacing-medium > a').click()"
   ]
  },
  {
   "cell_type": "code",
   "execution_count": 149,
   "metadata": {},
   "outputs": [],
   "source": [
    "#다음 페이지\n",
    "next_page ='//*[@id=\"cm_cr-pagination_bar\"]/ul/li[2]/a'\n",
    "driver.find_element(By.XPATH, next_page).click()\n",
    "time.sleep(2)"
   ]
  },
  {
   "cell_type": "code",
   "execution_count": 150,
   "metadata": {},
   "outputs": [
    {
     "data": {
      "text/plain": [
       "'Color: Pearl'"
      ]
     },
     "execution_count": 150,
     "metadata": {},
     "output_type": "execute_result"
    }
   ],
   "source": [
    "#색상 path\n",
    "driver.find_element(By.XPATH, '/html/body/div[1]/div[3]/div/div[1]/div/div[1]/div[5]/div[3]/div/div[2]/div/div/div[3]/a[1]').text"
   ]
  },
  {
   "cell_type": "code",
   "execution_count": 151,
   "metadata": {},
   "outputs": [
    {
     "data": {
      "text/plain": [
       "'The foundation was exactly my color, it did smear off when accidently touching face. It does oil up. And there was no coverage, acts like a moisturizer than a foundation. I used my old foundation and looked pretty with it mixed. But overall would not recommend for a full coverage foundation.'"
      ]
     },
     "execution_count": 151,
     "metadata": {},
     "output_type": "execute_result"
    }
   ],
   "source": [
    "#리뷰 path\n",
    "re_path = '/html/body/div[1]/div[3]/div/div[1]/div/div[1]/div[5]/div[3]/div/div[3]/div/div/div[4]/span'\n",
    "driver.find_element(By.XPATH, re_path).text"
   ]
  },
  {
   "cell_type": "code",
   "execution_count": 152,
   "metadata": {},
   "outputs": [
    {
     "data": {
      "text/plain": [
       "44"
      ]
     },
     "execution_count": 152,
     "metadata": {},
     "output_type": "execute_result"
    }
   ],
   "source": [
    "#전체 페이지 개수\n",
    "len(driver.find_elements(By.TAG_NAME, 'li'))"
   ]
  },
  {
   "cell_type": "code",
   "execution_count": 153,
   "metadata": {},
   "outputs": [
    {
     "data": {
      "text/plain": [
       "'Reviewed in the United States 🇺🇸 on October 27, 2022'"
      ]
     },
     "execution_count": 153,
     "metadata": {},
     "output_type": "execute_result"
    }
   ],
   "source": [
    "#나라 & 날짜\n",
    "driver.find_element(By.XPATH, '//*[@id=\"customer_review-R1NF9IG9CZMYXE\"]/span').text"
   ]
  },
  {
   "cell_type": "code",
   "execution_count": 154,
   "metadata": {},
   "outputs": [
    {
     "data": {
      "text/plain": [
       "'21,024 total ratings, 2,058 with reviews'"
      ]
     },
     "execution_count": 154,
     "metadata": {},
     "output_type": "execute_result"
    }
   ],
   "source": [
    "# 리뷰 갯수\n",
    "driver.find_element(By.XPATH, '//*[@id=\"filter-info-section\"]/div').text"
   ]
  },
  {
   "cell_type": "code",
   "execution_count": 155,
   "metadata": {},
   "outputs": [
    {
     "data": {
      "text/plain": [
       "'I like the color Pearl. I’m a pretty fair completed redhead, even in the summer. I usually never have to change shades. I like the texture and color of his foundation. I don’t feel like it minimizes pores or makes the texture of my skin look better, like other otc foundations I’ve bought. I have sensitive skin, and I feel like it tingles, maybe burns a little bit on my thinner skin areas. As far as all day wear- it only looks good and fresh for a few hours. Even with a good setting powder, I find myself blotting away product and having uneven texture. I will continue to wear this on and off, because it feel like it will be a good cold weather foundation. It does seem to moisturize a little more than my other otc products. Hope this review helps .'"
      ]
     },
     "execution_count": 155,
     "metadata": {},
     "output_type": "execute_result"
    }
   ],
   "source": [
    "driver.find_element(By.XPATH, '/html/body/div[1]/div[3]/div/div[1]/div/div[1]/div[5]/div[3]/div/div[2]/div/div/div[4]/span').text"
   ]
  },
  {
   "cell_type": "code",
   "execution_count": 156,
   "metadata": {},
   "outputs": [],
   "source": [
    "time.sleep(3)\n",
    "source = driver.page_source\n",
    "soup = BeautifulSoup(source, 'html.parser')"
   ]
  },
  {
   "cell_type": "code",
   "execution_count": 157,
   "metadata": {},
   "outputs": [],
   "source": [
    "url = []\n",
    "tot_page = len(driver.find_elements(By.TAG_NAME, 'li'))\n",
    "for i in range(2, 20):\n",
    "    page = i \n",
    "    \n",
    "    url.append(f'amazon.com/l-f-Cosmetics-flawless-foundation-lightweight/product-reviews/B07MWMY1HS/ref=cm_cr_getr_d_paging_btm_next_{str(page)}?ie=UTF8&reviewerType=all_reviews&pageNumber={str(page)}')"
   ]
  },
  {
   "cell_type": "code",
   "execution_count": 158,
   "metadata": {},
   "outputs": [
    {
     "data": {
      "text/plain": [
       "'amazon.com/l-f-Cosmetics-flawless-foundation-lightweight/product-reviews/B07MWMY1HS/ref=cm_cr_getr_d_paging_btm_next_3?ie=UTF8&reviewerType=all_reviews&pageNumber=3'"
      ]
     },
     "execution_count": 158,
     "metadata": {},
     "output_type": "execute_result"
    }
   ],
   "source": [
    "url[1]"
   ]
  },
  {
   "cell_type": "code",
   "execution_count": 164,
   "metadata": {},
   "outputs": [],
   "source": [
    "def amazon_reviews():\n",
    "    options = Options()\n",
    "    options.add_argument(\"--headless\")\n",
    "    options.add_argument(\"--window-soze = 1920x1080\")\n",
    "    options.add_argument(\"disable-gpu\")\n",
    "    driver_path= \"C:/Users/NTX550/Desktop/python/chromedriver.exe\"\n",
    "    s = Service(driver_path)\n",
    "\n",
    "    driver = webdriver.Chrome(service = s)\n",
    "    driver.implicitly_wait(2)\n",
    "    driver.set_window_size(600, 800)\n",
    "    url = 'https://www.amazon.com/l-f-Cosmetics-flawless-foundation-lightweight/product-reviews/B07MWMY1HS/ref=cm_cr_dp_d_show_all_btm?ie=UTF8&reviewerType=all_reviews'\n",
    "    driver.get(url)\n",
    "\n",
    "    # 사진 클릭 후 내용 들어가기\n",
    "    #driver.find_element(By.CSS_SELECTOR, '#search > div.s-desktop-width-max.s-desktop-content.s-opposite-dir.sg-row > div.s-matching-dir.sg-col-16-of-20.sg-col.sg-col-8-of-12.sg-col-12-of-16 > div > span.rush-component.s-latency-cf-section > div.s-main-slot.s-result-list.s-search-results.sg-row > div:nth-child(6) > div > div > div > div > div.s-product-image-container.aok-relative.s-image-overlay-grey.s-text-center.s-padding-left-small.s-padding-right-small.puis-spacing-small.s-height-equalized > span > a > div').click()\n",
    "    #driver.implicitly_wait(10)\n",
    "\n",
    "    # 리뷰 클릭\n",
    "    #driver.find_element(By.CSS_SELECTOR, '#acrCustomerReviewText').click()\n",
    "\n",
    "    #모든 리뷰 보기\n",
    "    #driver.find_element(By.CSS_SELECTOR, '#reviews-medley-footer > div.a-row.a-spacing-medium > a').click()\n",
    "    \n",
    "    #리뷰 수\n",
    "    rev = len(driver.find_elements(By.TAG_NAME, 'li'))\n",
    "    \n",
    "    reviews = []\n",
    "    colors = []\n",
    "    countries = []\n",
    "    \n",
    "    while True:\n",
    "        tot_page = len(driver.find_elements(By.TAG_NAME, 'li'))\n",
    "        time.sleep(3)\n",
    "        source = driver.page_source\n",
    "        bs_obj = BeautifulSoup(source, 'html.parser')\n",
    "        \n",
    "        # 리뷰 \n",
    "        for a in range(2, 6):\n",
    "            review_path = '/html/body/div[1]/div[3]/div/div[1]/div/div[1]/div[5]/div[3]/div/div['+str(a)+']/div/div/div[4]/span'\n",
    "            review = driver.find_element(By.XPATH, review_path).text\n",
    "            reviews.append(review)\n",
    "            #/html/body/div[1]/div[3]/div/div[1]/div/div[1]/div[5]/div[3]/div/div[1]/div/div/div[4]/span\n",
    "        # 색상\n",
    "            color_path = '/html/body/div[1]/div[3]/div/div[1]/div/div[1]/div[5]/div[3]/div/div['+str(b)+']/div/div/div[3]/a[1]'\n",
    "            color = driver.find_element(By.XPATH, color_path).text\n",
    "            colors.append(color)\n",
    "        \n",
    "        # 나라\n",
    "            country_path = '/html/body/div[1]/div[3]/div/div[1]/div/div[1]/div[5]/div[3]/div/div['+str(c)+']/div/div/span'\n",
    "            country = driver.find_element(By.XPATH, country_path).text\n",
    "            countries.append(country)\n",
    "        \n",
    "        if len(reviews) == 3:\n",
    "            break\n",
    "\n",
    "        \n",
    "\n",
    "        driver.find_element(By.XPATH, '//*[@id=\"cm_cr-pagination_bar\"]/ul/li[2]/a').click()\n",
    "        \n",
    "    df = pd.DataFrame({'review': reviews, 'color':colors, 'country' : countries})\n",
    "        \n",
    "    driver.close()\n",
    "    driver.quit()\n",
    "    \n",
    "    \n",
    "    return df"
   ]
  },
  {
   "cell_type": "code",
   "execution_count": 165,
   "metadata": {},
   "outputs": [
    {
     "ename": "NoSuchElementException",
     "evalue": "Message: no such element: Unable to locate element: {\"method\":\"xpath\",\"selector\":\"/html/body/div[1]/div[3]/div/div[1]/div/div[1]/div[5]/div[3]/div/div[4]/div/div/div[4]/span\"}\n  (Session info: chrome=107.0.5304.63)\nStacktrace:\nBacktrace:\n\tOrdinal0 [0x01181353+2233171]\n\tOrdinal0 [0x01118E31+1805873]\n\tOrdinal0 [0x010266FD+812797]\n\tOrdinal0 [0x010555DF+1005023]\n\tOrdinal0 [0x010557CB+1005515]\n\tOrdinal0 [0x01087632+1209906]\n\tOrdinal0 [0x01071AD4+1120980]\n\tOrdinal0 [0x010859E2+1202658]\n\tOrdinal0 [0x010718A6+1120422]\n\tOrdinal0 [0x0104A73D+960317]\n\tOrdinal0 [0x0104B71F+964383]\n\tGetHandleVerifier [0x0142A2C2+2728322]\n\tGetHandleVerifier [0x0141C184+2670660]\n\tGetHandleVerifier [0x0121102A+528106]\n\tGetHandleVerifier [0x0120FE10+523472]\n\tOrdinal0 [0x0112028C+1835660]\n\tOrdinal0 [0x01124758+1853272]\n\tOrdinal0 [0x01124845+1853509]\n\tOrdinal0 [0x0112E7E4+1894372]\n\tBaseThreadInitThunk [0x756CFA29+25]\n\tRtlGetAppContainerNamedObjectPath [0x777C7BBE+286]\n\tRtlGetAppContainerNamedObjectPath [0x777C7B8E+238]\n",
     "output_type": "error",
     "traceback": [
      "\u001b[1;31m---------------------------------------------------------------------------\u001b[0m",
      "\u001b[1;31mNoSuchElementException\u001b[0m                    Traceback (most recent call last)",
      "\u001b[1;32mc:\\Users\\NTX550\\Desktop\\amazon_review.ipynb 셀 14\u001b[0m in \u001b[0;36m<cell line: 1>\u001b[1;34m()\u001b[0m\n\u001b[1;32m----> <a href='vscode-notebook-cell:/c%3A/Users/NTX550/Desktop/amazon_review.ipynb#X22sZmlsZQ%3D%3D?line=0'>1</a>\u001b[0m amazon_reviews()\n",
      "\u001b[1;32mc:\\Users\\NTX550\\Desktop\\amazon_review.ipynb 셀 14\u001b[0m in \u001b[0;36mamazon_reviews\u001b[1;34m()\u001b[0m\n\u001b[0;32m     <a href='vscode-notebook-cell:/c%3A/Users/NTX550/Desktop/amazon_review.ipynb#X22sZmlsZQ%3D%3D?line=38'>39</a>\u001b[0m \u001b[39mfor\u001b[39;00m a \u001b[39min\u001b[39;00m \u001b[39mrange\u001b[39m(\u001b[39m2\u001b[39m, \u001b[39m6\u001b[39m):\n\u001b[0;32m     <a href='vscode-notebook-cell:/c%3A/Users/NTX550/Desktop/amazon_review.ipynb#X22sZmlsZQ%3D%3D?line=39'>40</a>\u001b[0m     review_path \u001b[39m=\u001b[39m \u001b[39m'\u001b[39m\u001b[39m/html/body/div[1]/div[3]/div/div[1]/div/div[1]/div[5]/div[3]/div/div[\u001b[39m\u001b[39m'\u001b[39m\u001b[39m+\u001b[39m\u001b[39mstr\u001b[39m(a)\u001b[39m+\u001b[39m\u001b[39m'\u001b[39m\u001b[39m]/div/div/div[4]/span\u001b[39m\u001b[39m'\u001b[39m\n\u001b[1;32m---> <a href='vscode-notebook-cell:/c%3A/Users/NTX550/Desktop/amazon_review.ipynb#X22sZmlsZQ%3D%3D?line=40'>41</a>\u001b[0m     review \u001b[39m=\u001b[39m driver\u001b[39m.\u001b[39;49mfind_element(By\u001b[39m.\u001b[39;49mXPATH, review_path)\u001b[39m.\u001b[39mtext\n\u001b[0;32m     <a href='vscode-notebook-cell:/c%3A/Users/NTX550/Desktop/amazon_review.ipynb#X22sZmlsZQ%3D%3D?line=41'>42</a>\u001b[0m     reviews\u001b[39m.\u001b[39mappend(review)\n\u001b[0;32m     <a href='vscode-notebook-cell:/c%3A/Users/NTX550/Desktop/amazon_review.ipynb#X22sZmlsZQ%3D%3D?line=42'>43</a>\u001b[0m     \u001b[39m#/html/body/div[1]/div[3]/div/div[1]/div/div[1]/div[5]/div[3]/div/div[1]/div/div/div[4]/span\u001b[39;00m\n\u001b[0;32m     <a href='vscode-notebook-cell:/c%3A/Users/NTX550/Desktop/amazon_review.ipynb#X22sZmlsZQ%3D%3D?line=43'>44</a>\u001b[0m \u001b[39m# 색상\u001b[39;00m\n",
      "File \u001b[1;32mc:\\Users\\NTX550\\anaconda3\\lib\\site-packages\\selenium\\webdriver\\remote\\webdriver.py:856\u001b[0m, in \u001b[0;36mWebDriver.find_element\u001b[1;34m(self, by, value)\u001b[0m\n\u001b[0;32m    853\u001b[0m     by \u001b[39m=\u001b[39m By\u001b[39m.\u001b[39mCSS_SELECTOR\n\u001b[0;32m    854\u001b[0m     value \u001b[39m=\u001b[39m \u001b[39m'\u001b[39m\u001b[39m[name=\u001b[39m\u001b[39m\"\u001b[39m\u001b[39m%s\u001b[39;00m\u001b[39m\"\u001b[39m\u001b[39m]\u001b[39m\u001b[39m'\u001b[39m \u001b[39m%\u001b[39m value\n\u001b[1;32m--> 856\u001b[0m \u001b[39mreturn\u001b[39;00m \u001b[39mself\u001b[39;49m\u001b[39m.\u001b[39;49mexecute(Command\u001b[39m.\u001b[39;49mFIND_ELEMENT, {\n\u001b[0;32m    857\u001b[0m     \u001b[39m'\u001b[39;49m\u001b[39musing\u001b[39;49m\u001b[39m'\u001b[39;49m: by,\n\u001b[0;32m    858\u001b[0m     \u001b[39m'\u001b[39;49m\u001b[39mvalue\u001b[39;49m\u001b[39m'\u001b[39;49m: value})[\u001b[39m'\u001b[39m\u001b[39mvalue\u001b[39m\u001b[39m'\u001b[39m]\n",
      "File \u001b[1;32mc:\\Users\\NTX550\\anaconda3\\lib\\site-packages\\selenium\\webdriver\\remote\\webdriver.py:429\u001b[0m, in \u001b[0;36mWebDriver.execute\u001b[1;34m(self, driver_command, params)\u001b[0m\n\u001b[0;32m    427\u001b[0m response \u001b[39m=\u001b[39m \u001b[39mself\u001b[39m\u001b[39m.\u001b[39mcommand_executor\u001b[39m.\u001b[39mexecute(driver_command, params)\n\u001b[0;32m    428\u001b[0m \u001b[39mif\u001b[39;00m response:\n\u001b[1;32m--> 429\u001b[0m     \u001b[39mself\u001b[39;49m\u001b[39m.\u001b[39;49merror_handler\u001b[39m.\u001b[39;49mcheck_response(response)\n\u001b[0;32m    430\u001b[0m     response[\u001b[39m'\u001b[39m\u001b[39mvalue\u001b[39m\u001b[39m'\u001b[39m] \u001b[39m=\u001b[39m \u001b[39mself\u001b[39m\u001b[39m.\u001b[39m_unwrap_value(\n\u001b[0;32m    431\u001b[0m         response\u001b[39m.\u001b[39mget(\u001b[39m'\u001b[39m\u001b[39mvalue\u001b[39m\u001b[39m'\u001b[39m, \u001b[39mNone\u001b[39;00m))\n\u001b[0;32m    432\u001b[0m     \u001b[39mreturn\u001b[39;00m response\n",
      "File \u001b[1;32mc:\\Users\\NTX550\\anaconda3\\lib\\site-packages\\selenium\\webdriver\\remote\\errorhandler.py:243\u001b[0m, in \u001b[0;36mErrorHandler.check_response\u001b[1;34m(self, response)\u001b[0m\n\u001b[0;32m    241\u001b[0m         alert_text \u001b[39m=\u001b[39m value[\u001b[39m'\u001b[39m\u001b[39malert\u001b[39m\u001b[39m'\u001b[39m]\u001b[39m.\u001b[39mget(\u001b[39m'\u001b[39m\u001b[39mtext\u001b[39m\u001b[39m'\u001b[39m)\n\u001b[0;32m    242\u001b[0m     \u001b[39mraise\u001b[39;00m exception_class(message, screen, stacktrace, alert_text)  \u001b[39m# type: ignore[call-arg]  # mypy is not smart enough here\u001b[39;00m\n\u001b[1;32m--> 243\u001b[0m \u001b[39mraise\u001b[39;00m exception_class(message, screen, stacktrace)\n",
      "\u001b[1;31mNoSuchElementException\u001b[0m: Message: no such element: Unable to locate element: {\"method\":\"xpath\",\"selector\":\"/html/body/div[1]/div[3]/div/div[1]/div/div[1]/div[5]/div[3]/div/div[4]/div/div/div[4]/span\"}\n  (Session info: chrome=107.0.5304.63)\nStacktrace:\nBacktrace:\n\tOrdinal0 [0x01181353+2233171]\n\tOrdinal0 [0x01118E31+1805873]\n\tOrdinal0 [0x010266FD+812797]\n\tOrdinal0 [0x010555DF+1005023]\n\tOrdinal0 [0x010557CB+1005515]\n\tOrdinal0 [0x01087632+1209906]\n\tOrdinal0 [0x01071AD4+1120980]\n\tOrdinal0 [0x010859E2+1202658]\n\tOrdinal0 [0x010718A6+1120422]\n\tOrdinal0 [0x0104A73D+960317]\n\tOrdinal0 [0x0104B71F+964383]\n\tGetHandleVerifier [0x0142A2C2+2728322]\n\tGetHandleVerifier [0x0141C184+2670660]\n\tGetHandleVerifier [0x0121102A+528106]\n\tGetHandleVerifier [0x0120FE10+523472]\n\tOrdinal0 [0x0112028C+1835660]\n\tOrdinal0 [0x01124758+1853272]\n\tOrdinal0 [0x01124845+1853509]\n\tOrdinal0 [0x0112E7E4+1894372]\n\tBaseThreadInitThunk [0x756CFA29+25]\n\tRtlGetAppContainerNamedObjectPath [0x777C7BBE+286]\n\tRtlGetAppContainerNamedObjectPath [0x777C7B8E+238]\n"
     ]
    }
   ],
   "source": [
    "amazon_reviews()"
   ]
  },
  {
   "cell_type": "markdown",
   "metadata": {},
   "source": []
  }
 ],
 "metadata": {
  "kernelspec": {
   "display_name": "Python 3.9.12 ('base')",
   "language": "python",
   "name": "python3"
  },
  "language_info": {
   "codemirror_mode": {
    "name": "ipython",
    "version": 3
   },
   "file_extension": ".py",
   "mimetype": "text/x-python",
   "name": "python",
   "nbconvert_exporter": "python",
   "pygments_lexer": "ipython3",
   "version": "3.9.12 (main, Apr  4 2022, 05:22:27) [MSC v.1916 64 bit (AMD64)]"
  },
  "orig_nbformat": 4,
  "vscode": {
   "interpreter": {
    "hash": "aca97298169bc572c3ec470dd784ff61581ee58d26737e53ade8f07e1a83bfa3"
   }
  }
 },
 "nbformat": 4,
 "nbformat_minor": 2
}
